{
 "cells": [
  {
   "cell_type": "code",
   "execution_count": 1,
   "metadata": {},
   "outputs": [],
   "source": [
    "from shapely.geometry import Point, Polygon\n",
    "import pandas as pd\n",
    "import geopandas as gpd\n",
    "\n",
    "from functools import partial\n",
    "import pyproj\n",
    "from shapely.ops import transform\n",
    "from shapely.geometry import Point\n",
    "\n",
    "proj_wgs84 = pyproj.Proj('+proj=longlat +datum=WGS84')\n",
    "\n",
    "\n",
    "def geodesic_point_buffer(lat, lon, km):\n",
    "    # Azimuthal equidistant projection\n",
    "    aeqd_proj = '+proj=aeqd +lat_0={lat} +lon_0={lon} +x_0=0 +y_0=0'\n",
    "    project = partial(\n",
    "        pyproj.transform,\n",
    "        pyproj.Proj(aeqd_proj.format(lat=lat, lon=lon)),\n",
    "        proj_wgs84)\n",
    "    buf = Point(0, 0).buffer(km * 1000)  # distance in metres\n",
    "    return Polygon(transform(project, buf).exterior.coords[:])"
   ]
  },
  {
   "cell_type": "code",
   "execution_count": 2,
   "metadata": {
    "scrolled": true
   },
   "outputs": [
    {
     "data": {
      "image/svg+xml": [
       "<svg xmlns=\"http://www.w3.org/2000/svg\" xmlns:xlink=\"http://www.w3.org/1999/xlink\" width=\"100.0\" height=\"100.0\" viewBox=\"-75.71379375530476 45.389980539792916 0.02758751060952136 0.02003890617856996\" preserveAspectRatio=\"xMinYMin meet\"><g transform=\"matrix(1,0,0,-1,0,90.7999999857644)\"><path fill-rule=\"evenodd\" fill=\"#66cc99\" stroke=\"#555555\" stroke-width=\"0.0005517502121904272\" opacity=\"0.6\" d=\"M -75.68722800434745,45.399999285942464 L -75.68728970273325,45.39911736456849 L -75.68747380252539,45.398243949966684 L -75.68777852526767,45.39738745301708 L -75.6882009312689,45.3965561213122 L -75.68873694810756,45.39575795976444 L -75.68938141002123,45.395000653563045 L -75.69012810779489,45.394291494220845 L -75.69096984866255,45.39363730942064 L -75.69189852564101,45.393044397334236 L -75.69290519562598,45.3925184660439 L -75.6939801654973,45.39206457864663 L -75.69511308540507,45.391687104567104 L -75.6962930483407,45.3913896775453 L -75.69750869503795,45.3911751607008 L -75.69874832319894,45.39104561900794 L -75.7,45.39100229944512 L -75.70125167680106,45.39104561900794 L -75.70249130496205,45.3911751607008 L -75.7037069516593,45.3913896775453 L -75.70488691459494,45.391687104567104 L -75.70601983450271,45.392064578646625 L -75.70709480437402,45.3925184660439 L -75.70810147435898,45.393044397334236 L -75.70903015133746,45.39363730942064 L -75.70987189220511,45.394291494220845 L -75.71061858997878,45.39500065356305 L -75.71126305189244,45.39575795976444 L -75.71179906873111,45.39655612131221 L -75.71222147473233,45.39738745301709 L -75.7125261974746,45.398243949966684 L -75.71271029726675,45.3991173645685 L -75.71277199565256,45.399999285942464 L -75.71271069274854,45.40088122090008 L -75.71252697324005,45.40175467573081 L -75.7122226009692,45.40261123800866 L -75.71180050215874,45.40344265763056 L -75.71126473742504,45.40424092630553 L -75.71062046284226,45.40499835472749 L -75.70987388042639,45.405707646686714 L -75.7090321785103,45.40636196940401 L -75.7081034625803,45.40695501940752 L -75.70709667723756,45.40748108331488 L -75.70602152003536,45.4079350929327 L -75.70488834802265,45.40831267413943 L -75.70370807789622,45.40861018907827 L -75.70249208072754,45.40882477125101 L -75.70125207228288,45.40895435317281 L -75.7,45.40899768631928 L -75.69874792771712,45.40895435317282 L -75.69750791927247,45.40882477125101 L -75.69629192210378,45.408610189078274 L -75.69511165197737,45.40831267413943 L -75.69397847996466,45.407935092932696 L -75.69290332276245,45.40748108331488 L -75.69189653741971,45.40695501940752 L -75.69096782148969,45.40636196940402 L -75.69012611957362,45.405707646686714 L -75.68937953715775,45.40499835472748 L -75.68873526257497,45.40424092630553 L -75.68819949784127,45.40344265763056 L -75.68777739903081,45.40261123800866 L -75.68747302675996,45.40175467573081 L -75.68728930725146,45.40088122090008 L -75.68722800434745,45.399999285942464 L -75.68722800434745,45.399999285942464 z\" /></g></svg>"
      ],
      "text/plain": [
       "<shapely.geometry.polygon.Polygon at 0x19ad26a3d08>"
      ]
     },
     "execution_count": 2,
     "metadata": {},
     "output_type": "execute_result"
    }
   ],
   "source": [
    "# Example\n",
    "b = geodesic_point_buffer(45.4, -75.7, 1)\n",
    "b"
   ]
  },
  {
   "cell_type": "code",
   "execution_count": 3,
   "metadata": {},
   "outputs": [
    {
     "data": {
      "text/plain": [
       "shapely.geometry.polygon.Polygon"
      ]
     },
     "execution_count": 3,
     "metadata": {},
     "output_type": "execute_result"
    }
   ],
   "source": [
    "type(b)"
   ]
  },
  {
   "cell_type": "code",
   "execution_count": 4,
   "metadata": {},
   "outputs": [],
   "source": [
    "poly=Polygon(b)"
   ]
  },
  {
   "cell_type": "code",
   "execution_count": 5,
   "metadata": {},
   "outputs": [
    {
     "data": {
      "image/svg+xml": [
       "<svg xmlns=\"http://www.w3.org/2000/svg\" xmlns:xlink=\"http://www.w3.org/1999/xlink\" width=\"100.0\" height=\"100.0\" viewBox=\"-75.71379375530476 45.389980539792916 0.02758751060952136 0.02003890617856996\" preserveAspectRatio=\"xMinYMin meet\"><g transform=\"matrix(1,0,0,-1,0,90.7999999857644)\"><path fill-rule=\"evenodd\" fill=\"#66cc99\" stroke=\"#555555\" stroke-width=\"0.0005517502121904272\" opacity=\"0.6\" d=\"M -75.68722800434745,45.399999285942464 L -75.68728970273325,45.39911736456849 L -75.68747380252539,45.398243949966684 L -75.68777852526767,45.39738745301708 L -75.6882009312689,45.3965561213122 L -75.68873694810756,45.39575795976444 L -75.68938141002123,45.395000653563045 L -75.69012810779489,45.394291494220845 L -75.69096984866255,45.39363730942064 L -75.69189852564101,45.393044397334236 L -75.69290519562598,45.3925184660439 L -75.6939801654973,45.39206457864663 L -75.69511308540507,45.391687104567104 L -75.6962930483407,45.3913896775453 L -75.69750869503795,45.3911751607008 L -75.69874832319894,45.39104561900794 L -75.7,45.39100229944512 L -75.70125167680106,45.39104561900794 L -75.70249130496205,45.3911751607008 L -75.7037069516593,45.3913896775453 L -75.70488691459494,45.391687104567104 L -75.70601983450271,45.392064578646625 L -75.70709480437402,45.3925184660439 L -75.70810147435898,45.393044397334236 L -75.70903015133746,45.39363730942064 L -75.70987189220511,45.394291494220845 L -75.71061858997878,45.39500065356305 L -75.71126305189244,45.39575795976444 L -75.71179906873111,45.39655612131221 L -75.71222147473233,45.39738745301709 L -75.7125261974746,45.398243949966684 L -75.71271029726675,45.3991173645685 L -75.71277199565256,45.399999285942464 L -75.71271069274854,45.40088122090008 L -75.71252697324005,45.40175467573081 L -75.7122226009692,45.40261123800866 L -75.71180050215874,45.40344265763056 L -75.71126473742504,45.40424092630553 L -75.71062046284226,45.40499835472749 L -75.70987388042639,45.405707646686714 L -75.7090321785103,45.40636196940401 L -75.7081034625803,45.40695501940752 L -75.70709667723756,45.40748108331488 L -75.70602152003536,45.4079350929327 L -75.70488834802265,45.40831267413943 L -75.70370807789622,45.40861018907827 L -75.70249208072754,45.40882477125101 L -75.70125207228288,45.40895435317281 L -75.7,45.40899768631928 L -75.69874792771712,45.40895435317282 L -75.69750791927247,45.40882477125101 L -75.69629192210378,45.408610189078274 L -75.69511165197737,45.40831267413943 L -75.69397847996466,45.407935092932696 L -75.69290332276245,45.40748108331488 L -75.69189653741971,45.40695501940752 L -75.69096782148969,45.40636196940402 L -75.69012611957362,45.405707646686714 L -75.68937953715775,45.40499835472748 L -75.68873526257497,45.40424092630553 L -75.68819949784127,45.40344265763056 L -75.68777739903081,45.40261123800866 L -75.68747302675996,45.40175467573081 L -75.68728930725146,45.40088122090008 L -75.68722800434745,45.399999285942464 L -75.68722800434745,45.399999285942464 z\" /></g></svg>"
      ],
      "text/plain": [
       "<shapely.geometry.polygon.Polygon at 0x19ad26bb0c8>"
      ]
     },
     "execution_count": 5,
     "metadata": {},
     "output_type": "execute_result"
    }
   ],
   "source": [
    "poly"
   ]
  },
  {
   "cell_type": "code",
   "execution_count": 6,
   "metadata": {},
   "outputs": [
    {
     "data": {
      "text/plain": [
       "shapely.geometry.polygon.Polygon"
      ]
     },
     "execution_count": 6,
     "metadata": {},
     "output_type": "execute_result"
    }
   ],
   "source": [
    "type(b)"
   ]
  },
  {
   "cell_type": "code",
   "execution_count": 7,
   "metadata": {},
   "outputs": [],
   "source": [
    "import pandas as pd\n",
    "lat_long_file=pd.read_excel(\"latlong.xls\")\n",
    "lat_long_file.dropna(inplace=True)"
   ]
  },
  {
   "cell_type": "code",
   "execution_count": 8,
   "metadata": {},
   "outputs": [],
   "source": [
    "lat_long_file.reset_index(inplace=True)"
   ]
  },
  {
   "cell_type": "code",
   "execution_count": 9,
   "metadata": {},
   "outputs": [
    {
     "name": "stdout",
     "output_type": "stream",
     "text": [
      "<class 'pandas.core.frame.DataFrame'>\n",
      "RangeIndex: 3895 entries, 0 to 3894\n",
      "Data columns (total 6 columns):\n",
      " #   Column     Non-Null Count  Dtype  \n",
      "---  ------     --------------  -----  \n",
      " 0   index      3895 non-null   int64  \n",
      " 1   Name       3895 non-null   object \n",
      " 2   district   3895 non-null   object \n",
      " 3   state      3895 non-null   object \n",
      " 4   Lattitude  3895 non-null   float64\n",
      " 5   Longitude  3895 non-null   float64\n",
      "dtypes: float64(2), int64(1), object(3)\n",
      "memory usage: 182.7+ KB\n"
     ]
    }
   ],
   "source": [
    "lat_long_file.info()"
   ]
  },
  {
   "cell_type": "code",
   "execution_count": 10,
   "metadata": {},
   "outputs": [],
   "source": [
    "lat_long_file['index'] = lat_long_file['index'].astype(str)"
   ]
  },
  {
   "cell_type": "code",
   "execution_count": 11,
   "metadata": {
    "scrolled": true
   },
   "outputs": [
    {
     "name": "stdout",
     "output_type": "stream",
     "text": [
      "<class 'pandas.core.frame.DataFrame'>\n",
      "RangeIndex: 3895 entries, 0 to 3894\n",
      "Data columns (total 7 columns):\n",
      " #   Column     Non-Null Count  Dtype  \n",
      "---  ------     --------------  -----  \n",
      " 0   index      3895 non-null   object \n",
      " 1   Name       3895 non-null   object \n",
      " 2   district   3895 non-null   object \n",
      " 3   state      3895 non-null   object \n",
      " 4   Lattitude  3895 non-null   float64\n",
      " 5   Longitude  3895 non-null   float64\n",
      " 6   polygon_1  3895 non-null   object \n",
      "dtypes: float64(2), object(5)\n",
      "memory usage: 213.1+ KB\n"
     ]
    }
   ],
   "source": [
    "polygon_1=[]\n",
    "for i in range(0,len(lat_long_file[\"Lattitude\"]),1):\n",
    "     polygon_1.append(geodesic_point_buffer(lat_long_file[\"Lattitude\"][i], lat_long_file[\"Longitude\"][i], 1))\n",
    "\n",
    "lat_long_file[\"polygon_1\"]=polygon_1\n",
    "lat_long_file.info()"
   ]
  },
  {
   "cell_type": "code",
   "execution_count": 12,
   "metadata": {},
   "outputs": [
    {
     "name": "stdout",
     "output_type": "stream",
     "text": [
      "<class 'shapely.geometry.polygon.Polygon'>\n"
     ]
    }
   ],
   "source": [
    "print(type(lat_long_file[\"polygon_1\"].iloc[3]))"
   ]
  },
  {
   "cell_type": "code",
   "execution_count": 13,
   "metadata": {},
   "outputs": [
    {
     "name": "stderr",
     "output_type": "stream",
     "text": [
      "C:\\Users\\HRITIK\\Anaconda3\\lib\\site-packages\\ipykernel_launcher.py:3: SettingWithCopyWarning: \n",
      "A value is trying to be set on a copy of a slice from a DataFrame\n",
      "\n",
      "See the caveats in the documentation: https://pandas.pydata.org/pandas-docs/stable/user_guide/indexing.html#returning-a-view-versus-a-copy\n",
      "  This is separate from the ipykernel package so we can avoid doing imports until\n"
     ]
    }
   ],
   "source": [
    "lat_long_file[\"geometry\"]=\"\"\n",
    "for i in range(len(lat_long_file)):\n",
    "     lat_long_file[\"geometry\"][i]=Polygon(polygon_1[i])"
   ]
  },
  {
   "cell_type": "code",
   "execution_count": 14,
   "metadata": {},
   "outputs": [
    {
     "data": {
      "text/plain": [
       "pandas.core.series.Series"
      ]
     },
     "execution_count": 14,
     "metadata": {},
     "output_type": "execute_result"
    }
   ],
   "source": [
    "type(lat_long_file[\"geometry\"])"
   ]
  },
  {
   "cell_type": "code",
   "execution_count": 15,
   "metadata": {},
   "outputs": [
    {
     "name": "stdout",
     "output_type": "stream",
     "text": [
      "<class 'pandas.core.frame.DataFrame'>\n",
      "RangeIndex: 3895 entries, 0 to 3894\n",
      "Data columns (total 8 columns):\n",
      " #   Column     Non-Null Count  Dtype  \n",
      "---  ------     --------------  -----  \n",
      " 0   index      3895 non-null   object \n",
      " 1   Name       3895 non-null   object \n",
      " 2   district   3895 non-null   object \n",
      " 3   state      3895 non-null   object \n",
      " 4   Lattitude  3895 non-null   float64\n",
      " 5   Longitude  3895 non-null   float64\n",
      " 6   polygon_1  3895 non-null   object \n",
      " 7   geometry   3895 non-null   object \n",
      "dtypes: float64(2), object(6)\n",
      "memory usage: 243.6+ KB\n"
     ]
    }
   ],
   "source": [
    "lat_long_file.info()"
   ]
  },
  {
   "cell_type": "code",
   "execution_count": 16,
   "metadata": {},
   "outputs": [],
   "source": [
    "lat_long_gdp = gpd.GeoDataFrame(lat_long_file)"
   ]
  },
  {
   "cell_type": "code",
   "execution_count": 17,
   "metadata": {},
   "outputs": [
    {
     "name": "stdout",
     "output_type": "stream",
     "text": [
      "<class 'geopandas.geodataframe.GeoDataFrame'>\n",
      "RangeIndex: 3895 entries, 0 to 3894\n",
      "Data columns (total 8 columns):\n",
      " #   Column     Non-Null Count  Dtype   \n",
      "---  ------     --------------  -----   \n",
      " 0   index      3895 non-null   object  \n",
      " 1   Name       3895 non-null   object  \n",
      " 2   district   3895 non-null   object  \n",
      " 3   state      3895 non-null   object  \n",
      " 4   Lattitude  3895 non-null   float64 \n",
      " 5   Longitude  3895 non-null   float64 \n",
      " 6   polygon_1  3895 non-null   object  \n",
      " 7   geometry   3895 non-null   geometry\n",
      "dtypes: float64(2), geometry(1), object(5)\n",
      "memory usage: 243.6+ KB\n"
     ]
    }
   ],
   "source": [
    "lat_long_gdp.info()"
   ]
  },
  {
   "cell_type": "code",
   "execution_count": 18,
   "metadata": {},
   "outputs": [
    {
     "data": {
      "text/plain": [
       "geopandas.geoseries.GeoSeries"
      ]
     },
     "execution_count": 18,
     "metadata": {},
     "output_type": "execute_result"
    }
   ],
   "source": [
    "type(lat_long_gdp[\"geometry\"])"
   ]
  },
  {
   "cell_type": "code",
   "execution_count": 19,
   "metadata": {},
   "outputs": [],
   "source": [
    "lat_long_gdp[[\"Lattitude\",\"Longitude\"]]=lat_long_gdp[[\"Lattitude\",\"Longitude\"]].astype(str)"
   ]
  },
  {
   "cell_type": "code",
   "execution_count": 20,
   "metadata": {},
   "outputs": [
    {
     "name": "stdout",
     "output_type": "stream",
     "text": [
      "<class 'geopandas.geodataframe.GeoDataFrame'>\n",
      "RangeIndex: 3895 entries, 0 to 3894\n",
      "Data columns (total 8 columns):\n",
      " #   Column     Non-Null Count  Dtype   \n",
      "---  ------     --------------  -----   \n",
      " 0   index      3895 non-null   object  \n",
      " 1   Name       3895 non-null   object  \n",
      " 2   district   3895 non-null   object  \n",
      " 3   state      3895 non-null   object  \n",
      " 4   Lattitude  3895 non-null   object  \n",
      " 5   Longitude  3895 non-null   object  \n",
      " 6   polygon_1  3895 non-null   object  \n",
      " 7   geometry   3895 non-null   geometry\n",
      "dtypes: geometry(1), object(7)\n",
      "memory usage: 243.6+ KB\n"
     ]
    }
   ],
   "source": [
    "lat_long_gdp.info()"
   ]
  },
  {
   "cell_type": "code",
   "execution_count": 21,
   "metadata": {},
   "outputs": [],
   "source": [
    "lat_long_gdp.drop([\"polygon_1\"], axis=1, inplace=True)"
   ]
  },
  {
   "cell_type": "code",
   "execution_count": 22,
   "metadata": {},
   "outputs": [],
   "source": [
    "lat_long_buffer_shp = gpd.GeoDataFrame(lat_long_gdp, geometry=lat_long_gdp.geometry)"
   ]
  },
  {
   "cell_type": "code",
   "execution_count": 23,
   "metadata": {},
   "outputs": [
    {
     "name": "stdout",
     "output_type": "stream",
     "text": [
      "<class 'geopandas.geodataframe.GeoDataFrame'>\n",
      "RangeIndex: 3895 entries, 0 to 3894\n",
      "Data columns (total 7 columns):\n",
      " #   Column     Non-Null Count  Dtype   \n",
      "---  ------     --------------  -----   \n",
      " 0   index      3895 non-null   object  \n",
      " 1   Name       3895 non-null   object  \n",
      " 2   district   3895 non-null   object  \n",
      " 3   state      3895 non-null   object  \n",
      " 4   Lattitude  3895 non-null   object  \n",
      " 5   Longitude  3895 non-null   object  \n",
      " 6   geometry   3895 non-null   geometry\n",
      "dtypes: geometry(1), object(6)\n",
      "memory usage: 213.1+ KB\n"
     ]
    }
   ],
   "source": [
    "lat_long_buffer_shp.info()"
   ]
  },
  {
   "cell_type": "code",
   "execution_count": 24,
   "metadata": {},
   "outputs": [
    {
     "data": {
      "text/plain": [
       "0       0.000266\n",
       "1       0.000266\n",
       "2       0.000266\n",
       "3       0.000266\n",
       "4       0.000265\n",
       "          ...   \n",
       "3890    0.000276\n",
       "3891    0.000277\n",
       "3892    0.000276\n",
       "3893    0.000277\n",
       "3894    0.000276\n",
       "Length: 3895, dtype: float64"
      ]
     },
     "execution_count": 24,
     "metadata": {},
     "output_type": "execute_result"
    }
   ],
   "source": [
    "lat_long_buffer_shp[\"geometry\"].area"
   ]
  },
  {
   "cell_type": "code",
   "execution_count": 27,
   "metadata": {},
   "outputs": [],
   "source": [
    "lat_long_buffer_shp=lat_long_buffer_shp[[\"index\",\"geometry\"]]"
   ]
  },
  {
   "cell_type": "code",
   "execution_count": 28,
   "metadata": {},
   "outputs": [],
   "source": [
    "lat_long_buffer_shp.to_file(\"lat_long_buffer_shp.shp\")"
   ]
  },
  {
   "cell_type": "code",
   "execution_count": 29,
   "metadata": {},
   "outputs": [
    {
     "data": {
      "text/html": [
       "<div>\n",
       "<style scoped>\n",
       "    .dataframe tbody tr th:only-of-type {\n",
       "        vertical-align: middle;\n",
       "    }\n",
       "\n",
       "    .dataframe tbody tr th {\n",
       "        vertical-align: top;\n",
       "    }\n",
       "\n",
       "    .dataframe thead th {\n",
       "        text-align: right;\n",
       "    }\n",
       "</style>\n",
       "<table border=\"1\" class=\"dataframe\">\n",
       "  <thead>\n",
       "    <tr style=\"text-align: right;\">\n",
       "      <th></th>\n",
       "      <th>index</th>\n",
       "      <th>Name</th>\n",
       "      <th>district</th>\n",
       "      <th>state</th>\n",
       "      <th>Lattitude</th>\n",
       "      <th>Longitude</th>\n",
       "      <th>geometry</th>\n",
       "    </tr>\n",
       "  </thead>\n",
       "  <tbody>\n",
       "    <tr>\n",
       "      <th>0</th>\n",
       "      <td>0</td>\n",
       "      <td>స్వర్గపురి</td>\n",
       "      <td>east godavari</td>\n",
       "      <td>AP</td>\n",
       "      <td>17.1975324</td>\n",
       "      <td>82.2273254</td>\n",
       "      <td>POLYGON ((82.23673 17.19753, 82.23668 17.19665...</td>\n",
       "    </tr>\n",
       "    <tr>\n",
       "      <th>1</th>\n",
       "      <td>1</td>\n",
       "      <td>Smashanam</td>\n",
       "      <td>east godavari</td>\n",
       "      <td>AP</td>\n",
       "      <td>16.5723151</td>\n",
       "      <td>81.9666197</td>\n",
       "      <td>POLYGON ((81.97599 16.57231, 81.97594 16.57143...</td>\n",
       "    </tr>\n",
       "    <tr>\n",
       "      <th>2</th>\n",
       "      <td>2</td>\n",
       "      <td>Hindu Burial Ground</td>\n",
       "      <td>east godavari</td>\n",
       "      <td>AP</td>\n",
       "      <td>16.8680309</td>\n",
       "      <td>81.9457228999999</td>\n",
       "      <td>POLYGON ((81.95511 16.86803, 81.95506 16.86714...</td>\n",
       "    </tr>\n",
       "    <tr>\n",
       "      <th>3</th>\n",
       "      <td>3</td>\n",
       "      <td>Burial Ground komaripalem</td>\n",
       "      <td>east godavari</td>\n",
       "      <td>AP</td>\n",
       "      <td>16.9240669</td>\n",
       "      <td>81.9988863</td>\n",
       "      <td>POLYGON ((82.00827 16.92407, 82.00823 16.92318...</td>\n",
       "    </tr>\n",
       "    <tr>\n",
       "      <th>4</th>\n",
       "      <td>4</td>\n",
       "      <td>crimition Elamanchili</td>\n",
       "      <td>east godavari</td>\n",
       "      <td>AP</td>\n",
       "      <td>16.4777473</td>\n",
       "      <td>81.8002815</td>\n",
       "      <td>POLYGON ((81.80965 16.47775, 81.80960 16.47686...</td>\n",
       "    </tr>\n",
       "    <tr>\n",
       "      <th>...</th>\n",
       "      <td>...</td>\n",
       "      <td>...</td>\n",
       "      <td>...</td>\n",
       "      <td>...</td>\n",
       "      <td>...</td>\n",
       "      <td>...</td>\n",
       "      <td>...</td>\n",
       "    </tr>\n",
       "    <tr>\n",
       "      <th>3890</th>\n",
       "      <td>3894</td>\n",
       "      <td>Rasuldih Basti Qabristan قبرستان رسولڈی بستی</td>\n",
       "      <td>PURULIYA</td>\n",
       "      <td>WB</td>\n",
       "      <td>23.1040285</td>\n",
       "      <td>86.1566134</td>\n",
       "      <td>POLYGON ((86.16637 23.10403, 86.16633 23.10314...</td>\n",
       "    </tr>\n",
       "    <tr>\n",
       "      <th>3891</th>\n",
       "      <td>3895</td>\n",
       "      <td>Chandaha Kabristan</td>\n",
       "      <td>PURULIYA</td>\n",
       "      <td>WB</td>\n",
       "      <td>23.3470571</td>\n",
       "      <td>86.3685331</td>\n",
       "      <td>POLYGON ((86.37831 23.34706, 86.37827 23.34617...</td>\n",
       "    </tr>\n",
       "    <tr>\n",
       "      <th>3892</th>\n",
       "      <td>3896</td>\n",
       "      <td>Bagjobra Qabristaan قبرستان بگجوبڑا</td>\n",
       "      <td>PURULIYA</td>\n",
       "      <td>WB</td>\n",
       "      <td>23.0912663</td>\n",
       "      <td>86.1629155999999</td>\n",
       "      <td>POLYGON ((86.17268 23.09127, 86.17263 23.09038...</td>\n",
       "    </tr>\n",
       "    <tr>\n",
       "      <th>3893</th>\n",
       "      <td>3897</td>\n",
       "      <td>cemetery</td>\n",
       "      <td>PURULIYA</td>\n",
       "      <td>WB</td>\n",
       "      <td>23.3470571</td>\n",
       "      <td>86.3685331</td>\n",
       "      <td>POLYGON ((86.37831 23.34706, 86.37827 23.34617...</td>\n",
       "    </tr>\n",
       "    <tr>\n",
       "      <th>3894</th>\n",
       "      <td>3898</td>\n",
       "      <td>Qabristaan Santipur قبرستان سانتیپور</td>\n",
       "      <td>PURULIYA</td>\n",
       "      <td>WB</td>\n",
       "      <td>23.100137</td>\n",
       "      <td>86.1645588</td>\n",
       "      <td>POLYGON ((86.17432 23.10014, 86.17427 23.09925...</td>\n",
       "    </tr>\n",
       "  </tbody>\n",
       "</table>\n",
       "<p>3895 rows × 7 columns</p>\n",
       "</div>"
      ],
      "text/plain": [
       "     index                                          Name       district state  \\\n",
       "0        0                                    స్వర్గపురి  east godavari    AP   \n",
       "1        1                                     Smashanam  east godavari    AP   \n",
       "2        2                           Hindu Burial Ground  east godavari    AP   \n",
       "3        3                     Burial Ground komaripalem  east godavari    AP   \n",
       "4        4                         crimition Elamanchili  east godavari    AP   \n",
       "...    ...                                           ...            ...   ...   \n",
       "3890  3894  Rasuldih Basti Qabristan قبرستان رسولڈی بستی       PURULIYA    WB   \n",
       "3891  3895                            Chandaha Kabristan       PURULIYA    WB   \n",
       "3892  3896           Bagjobra Qabristaan قبرستان بگجوبڑا       PURULIYA    WB   \n",
       "3893  3897                                      cemetery       PURULIYA    WB   \n",
       "3894  3898          Qabristaan Santipur قبرستان سانتیپور       PURULIYA    WB   \n",
       "\n",
       "       Lattitude         Longitude  \\\n",
       "0     17.1975324        82.2273254   \n",
       "1     16.5723151        81.9666197   \n",
       "2     16.8680309  81.9457228999999   \n",
       "3     16.9240669        81.9988863   \n",
       "4     16.4777473        81.8002815   \n",
       "...          ...               ...   \n",
       "3890  23.1040285        86.1566134   \n",
       "3891  23.3470571        86.3685331   \n",
       "3892  23.0912663  86.1629155999999   \n",
       "3893  23.3470571        86.3685331   \n",
       "3894   23.100137        86.1645588   \n",
       "\n",
       "                                               geometry  \n",
       "0     POLYGON ((82.23673 17.19753, 82.23668 17.19665...  \n",
       "1     POLYGON ((81.97599 16.57231, 81.97594 16.57143...  \n",
       "2     POLYGON ((81.95511 16.86803, 81.95506 16.86714...  \n",
       "3     POLYGON ((82.00827 16.92407, 82.00823 16.92318...  \n",
       "4     POLYGON ((81.80965 16.47775, 81.80960 16.47686...  \n",
       "...                                                 ...  \n",
       "3890  POLYGON ((86.16637 23.10403, 86.16633 23.10314...  \n",
       "3891  POLYGON ((86.37831 23.34706, 86.37827 23.34617...  \n",
       "3892  POLYGON ((86.17268 23.09127, 86.17263 23.09038...  \n",
       "3893  POLYGON ((86.37831 23.34706, 86.37827 23.34617...  \n",
       "3894  POLYGON ((86.17432 23.10014, 86.17427 23.09925...  \n",
       "\n",
       "[3895 rows x 7 columns]"
      ]
     },
     "execution_count": 29,
     "metadata": {},
     "output_type": "execute_result"
    }
   ],
   "source": [
    "lat_long_gdp"
   ]
  },
  {
   "cell_type": "code",
   "execution_count": 30,
   "metadata": {},
   "outputs": [
    {
     "data": {
      "text/html": [
       "<div>\n",
       "<style scoped>\n",
       "    .dataframe tbody tr th:only-of-type {\n",
       "        vertical-align: middle;\n",
       "    }\n",
       "\n",
       "    .dataframe tbody tr th {\n",
       "        vertical-align: top;\n",
       "    }\n",
       "\n",
       "    .dataframe thead th {\n",
       "        text-align: right;\n",
       "    }\n",
       "</style>\n",
       "<table border=\"1\" class=\"dataframe\">\n",
       "  <thead>\n",
       "    <tr style=\"text-align: right;\">\n",
       "      <th></th>\n",
       "      <th>index</th>\n",
       "      <th>geometry</th>\n",
       "    </tr>\n",
       "  </thead>\n",
       "  <tbody>\n",
       "    <tr>\n",
       "      <th>0</th>\n",
       "      <td>0</td>\n",
       "      <td>POLYGON ((82.23673 17.19753, 82.23668 17.19665...</td>\n",
       "    </tr>\n",
       "    <tr>\n",
       "      <th>1</th>\n",
       "      <td>1</td>\n",
       "      <td>POLYGON ((81.97599 16.57231, 81.97594 16.57143...</td>\n",
       "    </tr>\n",
       "    <tr>\n",
       "      <th>2</th>\n",
       "      <td>2</td>\n",
       "      <td>POLYGON ((81.95511 16.86803, 81.95506 16.86714...</td>\n",
       "    </tr>\n",
       "    <tr>\n",
       "      <th>3</th>\n",
       "      <td>3</td>\n",
       "      <td>POLYGON ((82.00827 16.92407, 82.00823 16.92318...</td>\n",
       "    </tr>\n",
       "    <tr>\n",
       "      <th>4</th>\n",
       "      <td>4</td>\n",
       "      <td>POLYGON ((81.80965 16.47775, 81.80960 16.47686...</td>\n",
       "    </tr>\n",
       "    <tr>\n",
       "      <th>...</th>\n",
       "      <td>...</td>\n",
       "      <td>...</td>\n",
       "    </tr>\n",
       "    <tr>\n",
       "      <th>3890</th>\n",
       "      <td>3894</td>\n",
       "      <td>POLYGON ((86.16637 23.10403, 86.16633 23.10314...</td>\n",
       "    </tr>\n",
       "    <tr>\n",
       "      <th>3891</th>\n",
       "      <td>3895</td>\n",
       "      <td>POLYGON ((86.37831 23.34706, 86.37827 23.34617...</td>\n",
       "    </tr>\n",
       "    <tr>\n",
       "      <th>3892</th>\n",
       "      <td>3896</td>\n",
       "      <td>POLYGON ((86.17268 23.09127, 86.17263 23.09038...</td>\n",
       "    </tr>\n",
       "    <tr>\n",
       "      <th>3893</th>\n",
       "      <td>3897</td>\n",
       "      <td>POLYGON ((86.37831 23.34706, 86.37827 23.34617...</td>\n",
       "    </tr>\n",
       "    <tr>\n",
       "      <th>3894</th>\n",
       "      <td>3898</td>\n",
       "      <td>POLYGON ((86.17432 23.10014, 86.17427 23.09925...</td>\n",
       "    </tr>\n",
       "  </tbody>\n",
       "</table>\n",
       "<p>3895 rows × 2 columns</p>\n",
       "</div>"
      ],
      "text/plain": [
       "     index                                           geometry\n",
       "0        0  POLYGON ((82.23673 17.19753, 82.23668 17.19665...\n",
       "1        1  POLYGON ((81.97599 16.57231, 81.97594 16.57143...\n",
       "2        2  POLYGON ((81.95511 16.86803, 81.95506 16.86714...\n",
       "3        3  POLYGON ((82.00827 16.92407, 82.00823 16.92318...\n",
       "4        4  POLYGON ((81.80965 16.47775, 81.80960 16.47686...\n",
       "...    ...                                                ...\n",
       "3890  3894  POLYGON ((86.16637 23.10403, 86.16633 23.10314...\n",
       "3891  3895  POLYGON ((86.37831 23.34706, 86.37827 23.34617...\n",
       "3892  3896  POLYGON ((86.17268 23.09127, 86.17263 23.09038...\n",
       "3893  3897  POLYGON ((86.37831 23.34706, 86.37827 23.34617...\n",
       "3894  3898  POLYGON ((86.17432 23.10014, 86.17427 23.09925...\n",
       "\n",
       "[3895 rows x 2 columns]"
      ]
     },
     "execution_count": 30,
     "metadata": {},
     "output_type": "execute_result"
    }
   ],
   "source": [
    "lat_long_buffer_shp"
   ]
  },
  {
   "cell_type": "code",
   "execution_count": null,
   "metadata": {},
   "outputs": [],
   "source": []
  }
 ],
 "metadata": {
  "kernelspec": {
   "display_name": "Python 3",
   "language": "python",
   "name": "python3"
  },
  "language_info": {
   "codemirror_mode": {
    "name": "ipython",
    "version": 3
   },
   "file_extension": ".py",
   "mimetype": "text/x-python",
   "name": "python",
   "nbconvert_exporter": "python",
   "pygments_lexer": "ipython3",
   "version": "3.7.4"
  }
 },
 "nbformat": 4,
 "nbformat_minor": 4
}
