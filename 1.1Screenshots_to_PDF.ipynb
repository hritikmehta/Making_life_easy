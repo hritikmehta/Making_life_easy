{
 "cells": [
  {
   "cell_type": "markdown",
   "metadata": {},
   "source": [
    "## An automated way to convert screenshots to PDF "
   ]
  },
  {
   "cell_type": "code",
   "execution_count": 4,
   "metadata": {},
   "outputs": [],
   "source": [
    "import os"
   ]
  },
  {
   "cell_type": "code",
   "execution_count": 24,
   "metadata": {},
   "outputs": [],
   "source": [
    "out_filename=\"CDP_3_2.pdf\"\n",
    "location=\"C:/Users/HRITIK/Semester 6/CDP/3_The theory and history of Marxism and socialism\""
   ]
  },
  {
   "cell_type": "code",
   "execution_count": 6,
   "metadata": {},
   "outputs": [],
   "source": [
    "# Improting Image class from PIL module \n",
    "from PIL import Image \n",
    "list=os.listdir(location)"
   ]
  },
  {
   "cell_type": "code",
   "execution_count": 7,
   "metadata": {},
   "outputs": [
    {
     "data": {
      "text/plain": [
       "['Screenshot (1743).png',\n",
       " 'Screenshot (1744).png',\n",
       " 'Screenshot (1745).png',\n",
       " 'Screenshot (1746).png',\n",
       " 'Screenshot (1747).png',\n",
       " 'Screenshot (1748).png',\n",
       " 'Screenshot (1749).png',\n",
       " 'Screenshot (1750).png',\n",
       " 'Screenshot (1751).png',\n",
       " 'Screenshot (1752).png',\n",
       " 'Screenshot (1753).png',\n",
       " 'Screenshot (1754).png',\n",
       " 'Screenshot (1755).png',\n",
       " 'Screenshot (1756).png',\n",
       " 'Screenshot (1757).png',\n",
       " 'Screenshot (1758).png',\n",
       " 'Screenshot (1759).png',\n",
       " 'Screenshot (1760).png',\n",
       " 'Screenshot (1761).png',\n",
       " 'Screenshot (1762).png',\n",
       " 'Screenshot (1763).png',\n",
       " 'Screenshot (1765).png',\n",
       " 'Screenshot (1766).png',\n",
       " 'Screenshot (1797).png',\n",
       " 'Screenshot (1798).png',\n",
       " 'Screenshot (1799).png',\n",
       " 'Screenshot (1800).png',\n",
       " 'Screenshot (1801).png',\n",
       " 'Screenshot (1802).png',\n",
       " 'Screenshot (1803).png',\n",
       " 'Screenshot (1804).png',\n",
       " 'Screenshot (1805).png',\n",
       " 'Screenshot (1806).png',\n",
       " 'Screenshot (1807).png',\n",
       " 'Screenshot (1808).png',\n",
       " 'Screenshot (1809).png',\n",
       " 'Screenshot (1810).png',\n",
       " 'Screenshot (1811).png',\n",
       " 'Screenshot (1812).png',\n",
       " 'Screenshot (1813).png',\n",
       " 'Screenshot (1814).png',\n",
       " 'Screenshot (1815).png',\n",
       " 'Screenshot (1816).png',\n",
       " 'Screenshot (1817).png',\n",
       " 'Screenshot (1818).png',\n",
       " 'Screenshot (1819).png',\n",
       " 'Screenshot (1820).png',\n",
       " 'Screenshot (1821).png',\n",
       " 'Screenshot (1822).png',\n",
       " 'Screenshot (1823).png',\n",
       " 'Screenshot (1824).png',\n",
       " 'Screenshot (1825).png',\n",
       " 'Screenshot (1826).png',\n",
       " 'Screenshot (1827).png',\n",
       " 'Screenshot (1828).png',\n",
       " 'Screenshot (1829).png',\n",
       " 'Screenshot (1830).png',\n",
       " 'Screenshot (1831).png',\n",
       " 'Screenshot (1832).png',\n",
       " 'Screenshot (1833).png']"
      ]
     },
     "execution_count": 7,
     "metadata": {},
     "output_type": "execute_result"
    }
   ],
   "source": [
    "# change \".png\" to other format according to your requirement\n",
    "\n",
    "png_file_list= [x for x in list if x.endswith(\".png\")]\n",
    "png_file_list"
   ]
  },
  {
   "cell_type": "markdown",
   "metadata": {},
   "source": [
    "### Cropping the Image to desired size "
   ]
  },
  {
   "cell_type": "code",
   "execution_count": 22,
   "metadata": {},
   "outputs": [],
   "source": [
    "# Opens a image in RGB mode \n",
    "im = Image.open(os.path.join(location,png_file_list[0])) \n",
    "  \n",
    "# Size of the image in pixels (size of orginal image) \n",
    "# (This is not mandatory) \n",
    "width, height = im.size \n",
    "\n",
    "\n",
    "start_row,start_col=int(height*(2.1/17.8)),int(width*(1.2/10.8)) ###change\n",
    "\n",
    "end_row,end_col=int(height*(14.95/17.8)),int(width*(9.2/10.8)) ###change\n",
    "\n",
    "left = start_col\n",
    "top = start_row\n",
    "right = end_col\n",
    "bottom = end_row\n",
    "  \n",
    "# Cropped image of above dimension \n",
    "# (It will not change orginal image) \n",
    "im1 = im.crop((left, top, right, bottom)) \n",
    "  \n",
    "# Shows the image in image viewer \n",
    "im1.show()"
   ]
  },
  {
   "cell_type": "markdown",
   "metadata": {},
   "source": [
    "### Converting cropped images to PDF"
   ]
  },
  {
   "cell_type": "code",
   "execution_count": 25,
   "metadata": {},
   "outputs": [],
   "source": [
    "imageList=[]\n",
    "for imagefile in png_file_list:\n",
    "    image_filepath = os.path.join(location,imagefile)\n",
    "    im = Image.open(image_filepath, mode='r')\n",
    "    width, height = im.size \n",
    "    \n",
    "    start_row,start_col=int(height*(3.6/17.8)),int(width*(3.74/10.8))\n",
    "\n",
    "    end_row,end_col=int(height*(13.45/17.8)),int(width*(8.2/10.8))\n",
    "\n",
    "    left = start_col\n",
    "    top = start_row\n",
    "    right = end_col\n",
    "    bottom = end_row\n",
    "    \n",
    "    im1 = im.crop((left, top, right, bottom)) \n",
    "    im1 = im1.convert('RGB')\n",
    "    imageList.append(im1)\n",
    "    \n",
    "imageList[0].save(os.path.join(location,out_filename), save_all = True, quality=100, append_images = imageList[1:])"
   ]
  },
  {
   "cell_type": "code",
   "execution_count": null,
   "metadata": {},
   "outputs": [],
   "source": []
  }
 ],
 "metadata": {
  "kernelspec": {
   "display_name": "Python 3",
   "language": "python",
   "name": "python3"
  },
  "language_info": {
   "codemirror_mode": {
    "name": "ipython",
    "version": 3
   },
   "file_extension": ".py",
   "mimetype": "text/x-python",
   "name": "python",
   "nbconvert_exporter": "python",
   "pygments_lexer": "ipython3",
   "version": "3.7.4"
  }
 },
 "nbformat": 4,
 "nbformat_minor": 4
}
